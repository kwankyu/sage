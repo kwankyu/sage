{
 "cells": [
  {
   "cell_type": "markdown",
   "id": "f53d13f4-db6c-4580-a6ad-274db3f6f13a",
   "metadata": {},
   "source": [
    "# Non-hyperelliptic genus 3 curve"
   ]
  },
  {
   "cell_type": "code",
   "execution_count": 1,
   "id": "e62ec107-aff6-4fde-84bb-8bffd2820021",
   "metadata": {},
   "outputs": [
    {
     "data": {
      "text/plain": [
       "3"
      ]
     },
     "execution_count": 1,
     "metadata": {},
     "output_type": "execute_result"
    }
   ],
   "source": [
    "A2.<x,y> = AffineSpace(QQ, 2)\n",
    "f = y^3 + x^4 - 5*x^2*y + 2*x*y - x^2 - 5*y - 4*x + 1\n",
    "C = Curve(f, A2)\n",
    "X = C.projective_closure()\n",
    "X.genus()"
   ]
  },
  {
   "cell_type": "code",
   "execution_count": 2,
   "id": "badb7540-24b2-4685-a61f-17ed58b58259",
   "metadata": {},
   "outputs": [
    {
     "data": {
      "text/plain": [
       "[(0 : 0 : 1), (1/3 : 1/3 : 1)]"
      ]
     },
     "execution_count": 2,
     "metadata": {},
     "output_type": "execute_result"
    }
   ],
   "source": [
    "X.rational_points(bound=5)"
   ]
  },
  {
   "cell_type": "code",
   "execution_count": 3,
   "id": "5a6e3c3c-4725-4946-94d3-bacb53381717",
   "metadata": {},
   "outputs": [
    {
     "data": {
      "text/plain": [
       "0"
      ]
     },
     "execution_count": 3,
     "metadata": {},
     "output_type": "execute_result"
    }
   ],
   "source": [
    "Q = X(0,0,1).place()\n",
    "P = X(1,1,3).place()\n",
    "D = P - Q\n",
    "D.degree()"
   ]
  },
  {
   "cell_type": "code",
   "execution_count": 4,
   "id": "14fc870b-422b-4316-8aa9-34418d3072bc",
   "metadata": {},
   "outputs": [],
   "source": [
    "J = X.jacobian(model='hess', base_div=3*Q)"
   ]
  },
  {
   "cell_type": "code",
   "execution_count": 5,
   "id": "49c53c09-5ed7-4549-94f8-aed117faf3cd",
   "metadata": {},
   "outputs": [
    {
     "data": {
      "text/plain": [
       "Jacobian of Projective Plane Curve over Rational Field defined by x0^4 - 4*x0^3*x1 - x0^2*x1^2 + x1^4 - 5*x0^3*x2 + 2*x0^2*x1*x2 - 5*x0*x1^2*x2 + x0*x2^3 (Hess model)"
      ]
     },
     "execution_count": 5,
     "metadata": {},
     "output_type": "execute_result"
    }
   ],
   "source": [
    "J"
   ]
  },
  {
   "cell_type": "code",
   "execution_count": 6,
   "id": "9a4266d4-55e4-4eff-a9f8-9ef77e4ef63d",
   "metadata": {},
   "outputs": [],
   "source": [
    "p = J(D)"
   ]
  },
  {
   "cell_type": "code",
   "execution_count": 7,
   "id": "388a9c56-685d-489c-921c-ad9be16533b7",
   "metadata": {},
   "outputs": [
    {
     "data": {
      "text/plain": [
       "[2*Place (1/x, 1/x^2*y, 1/x^3*y^2)\n",
       " + Place (x - 1, y - 3, y^2 - 9)]"
      ]
     },
     "execution_count": 7,
     "metadata": {},
     "output_type": "execute_result"
    }
   ],
   "source": [
    "p"
   ]
  },
  {
   "cell_type": "code",
   "execution_count": 8,
   "id": "a3856119-a1f1-49df-9584-dc58fc32608a",
   "metadata": {},
   "outputs": [
    {
     "data": {
      "text/plain": [
       "Group of rational points of Jacobian over Rational Field (Hess model)"
      ]
     },
     "execution_count": 8,
     "metadata": {},
     "output_type": "execute_result"
    }
   ],
   "source": [
    "p.parent()"
   ]
  },
  {
   "cell_type": "code",
   "execution_count": 9,
   "id": "3e3b49f9-ae77-4672-a80e-8aa2a7a4c046",
   "metadata": {},
   "outputs": [
    {
     "data": {
      "text/plain": [
       "True"
      ]
     },
     "execution_count": 9,
     "metadata": {},
     "output_type": "execute_result"
    }
   ],
   "source": [
    "2*p + 3*p == 5*p"
   ]
  },
  {
   "cell_type": "code",
   "execution_count": 10,
   "id": "2720cdd8-cfc0-4a33-913d-b97104be2f7e",
   "metadata": {},
   "outputs": [],
   "source": [
    "J.set_base_place(Q)"
   ]
  },
  {
   "cell_type": "code",
   "execution_count": 11,
   "id": "8fe6fc35-8246-457d-b199-34629a6cb1ef",
   "metadata": {},
   "outputs": [],
   "source": [
    "q = J(P)"
   ]
  },
  {
   "cell_type": "code",
   "execution_count": 12,
   "id": "47bca72e-98d7-4960-9771-cd8ff7a9a652",
   "metadata": {},
   "outputs": [
    {
     "data": {
      "text/plain": [
       "True"
      ]
     },
     "execution_count": 12,
     "metadata": {},
     "output_type": "execute_result"
    }
   ],
   "source": [
    "q == p"
   ]
  },
  {
   "cell_type": "code",
   "execution_count": 13,
   "id": "bf9a3c16-e40f-480a-be88-e8d65ab8c071",
   "metadata": {},
   "outputs": [
    {
     "data": {
      "text/plain": [
       "[Place (x^3 + 52128809071551007372/68455925546845028093*x^2 + 34480934421881467404/68455925546845028093*x + 626548675517766952/6223265958804093463, y + 16734292833049/1192992586564*x^2 + 2336882493093/298248146641*x + 1097648757714/298248146641, y^2 - 244403334343138060496472301/19963887291218533932553636*x^2 - 26087471036958822152195107/9981943645609266966276818*x - 2948737469687146164834742/453724711164057589376219)]"
      ]
     },
     "execution_count": 13,
     "metadata": {},
     "output_type": "execute_result"
    }
   ],
   "source": [
    "4*p"
   ]
  },
  {
   "cell_type": "markdown",
   "id": "00fc7219-b561-4f58-a3ec-d3604fbceb6a",
   "metadata": {},
   "source": [
    "# Khuri-Makdisi model"
   ]
  },
  {
   "cell_type": "code",
   "execution_count": 14,
   "id": "d13d7b13-0a98-4e2d-a1f3-d84e03be858f",
   "metadata": {},
   "outputs": [],
   "source": [
    "J_large = X.jacobian(model='km_large', base_div=7*Q) "
   ]
  },
  {
   "cell_type": "code",
   "execution_count": 15,
   "id": "c1869ce5-6176-484a-9d12-04418cf3690d",
   "metadata": {},
   "outputs": [],
   "source": [
    "pl = J_large(p)  # takes time"
   ]
  },
  {
   "cell_type": "code",
   "execution_count": 16,
   "id": "971547dc-5fc3-45c2-936c-441c89f51c5f",
   "metadata": {},
   "outputs": [
    {
     "data": {
      "text/plain": [
       "Point of Jacobian determined by \n",
       "[   1    0    0    0    0    0    0    0    0    0    0    0    0    0    0    0 -1/9    0    0]\n",
       "[   0    1    0    0    0    0    0    0    0    0    0    0    0    0    0    0 -1/9    0    0]\n",
       "[   0    0    1    0    0    0    0    0    0    0    0    0    0    0    0    0 -1/9    0    0]\n",
       "[   0    0    0    1    0    0    0    0    0    0    0    0    0    0    0    0 -1/9    0    0]\n",
       "[   0    0    0    0    1    0    0    0    0    0    0    0    0    0    0    0 -1/9    0    0]\n",
       "[   0    0    0    0    0    1    0    0    0    0    0    0    0    0    0    0 -1/9    0    0]\n",
       "[   0    0    0    0    0    0    0    0    1    0    0    0    0    0    0    0 -1/3    0    0]\n",
       "[   0    0    0    0    0    0    0    0    0    1    0    0    0    0    0    0 -1/3    0    0]\n",
       "[   0    0    0    0    0    0    0    0    0    0    1    0    0    0    0    0 -1/3    0    0]\n",
       "[   0    0    0    0    0    0    0    0    0    0    0    1    0    0    0    0 -1/3    0    0]\n",
       "[   0    0    0    0    0    0    0    0    0    0    0    0    0    0    1    0   -1    0    0]\n",
       "[   0    0    0    0    0    0    0    0    0    0    0    0    0    0    0    1   -1    0    0]"
      ]
     },
     "execution_count": 16,
     "metadata": {},
     "output_type": "execute_result"
    }
   ],
   "source": [
    "pl"
   ]
  },
  {
   "cell_type": "code",
   "execution_count": 17,
   "id": "83ae5a71-8ab0-4360-a112-1f600bf2c2b7",
   "metadata": {},
   "outputs": [
    {
     "name": "stdout",
     "output_type": "stream",
     "text": [
      "CPU times: user 2.95 s, sys: 27.2 ms, total: 2.97 s\n",
      "Wall time: 3 s\n"
     ]
    }
   ],
   "source": [
    "time 3*pl;"
   ]
  },
  {
   "cell_type": "code",
   "execution_count": 18,
   "id": "1196bdf9-3a2c-4826-be2b-df9bad6dd0ee",
   "metadata": {},
   "outputs": [],
   "source": [
    "J_medium = X.jacobian(model='km_medium', base_div=7*Q)"
   ]
  },
  {
   "cell_type": "code",
   "execution_count": 19,
   "id": "1b966fb2-134d-4863-996c-99104d281159",
   "metadata": {},
   "outputs": [],
   "source": [
    "pm = J_medium(pl)  # takes time"
   ]
  },
  {
   "cell_type": "code",
   "execution_count": 20,
   "id": "d7899162-8947-415b-afd0-cdf397356b2e",
   "metadata": {},
   "outputs": [
    {
     "name": "stdout",
     "output_type": "stream",
     "text": [
      "CPU times: user 487 ms, sys: 12.3 ms, total: 500 ms\n",
      "Wall time: 497 ms\n"
     ]
    }
   ],
   "source": [
    "time 3*pm;"
   ]
  },
  {
   "cell_type": "code",
   "execution_count": 21,
   "id": "bea49fca-f7d7-4b14-b6f1-574ce4f4ad92",
   "metadata": {},
   "outputs": [
    {
     "data": {
      "text/plain": [
       "Point of Jacobian determined by \n",
       "[   1    0    0    0    0    0    0    0    0 -1/9    0    0]\n",
       "[   0    1    0    0    0    0    0    0    0 -1/9    0    0]\n",
       "[   0    0    1    0    0    0    0    0    0 -1/9    0    0]\n",
       "[   0    0    0    0    0    1    0    0    0 -1/3    0    0]\n",
       "[   0    0    0    0    0    0    1    0    0 -1/3    0    0]"
      ]
     },
     "execution_count": 21,
     "metadata": {},
     "output_type": "execute_result"
    }
   ],
   "source": [
    "pm"
   ]
  },
  {
   "cell_type": "code",
   "execution_count": 22,
   "id": "12842fef-5dcd-43c9-81fb-9a9aa640fc18",
   "metadata": {},
   "outputs": [],
   "source": [
    "J_small = X.jacobian(model='km_small', base_div=4*Q)"
   ]
  },
  {
   "cell_type": "code",
   "execution_count": 23,
   "id": "0731e9c9-0c60-4807-b3e1-9ecfe60545ae",
   "metadata": {},
   "outputs": [],
   "source": [
    "ps = J_small(pm)  # takes time"
   ]
  },
  {
   "cell_type": "code",
   "execution_count": 24,
   "id": "c3f35cc1-422e-4da3-9453-84d3e81b5628",
   "metadata": {},
   "outputs": [
    {
     "name": "stdout",
     "output_type": "stream",
     "text": [
      "CPU times: user 288 ms, sys: 13.9 ms, total: 302 ms\n",
      "Wall time: 300 ms\n"
     ]
    }
   ],
   "source": [
    "time 3*ps;"
   ]
  },
  {
   "cell_type": "code",
   "execution_count": 25,
   "id": "aed62fa1-1342-4744-bfd3-d6d8681e259e",
   "metadata": {},
   "outputs": [
    {
     "name": "stdout",
     "output_type": "stream",
     "text": [
      "CPU times: user 10.6 s, sys: 31.6 ms, total: 10.6 s\n",
      "Wall time: 10.6 s\n"
     ]
    }
   ],
   "source": [
    "time 10*ps;"
   ]
  },
  {
   "cell_type": "markdown",
   "id": "29a08028-64af-43c8-8623-6725644d2f94",
   "metadata": {},
   "source": [
    "# Elliptic curve"
   ]
  },
  {
   "cell_type": "code",
   "execution_count": 26,
   "id": "f8c49dc3-25f7-4b9e-b0ce-0615771c3a0d",
   "metadata": {},
   "outputs": [
    {
     "data": {
      "text/plain": [
       "Elliptic Curve defined by y^2 = x^3 + x over Finite Field in a of size 5^2"
      ]
     },
     "execution_count": 26,
     "metadata": {},
     "output_type": "execute_result"
    }
   ],
   "source": [
    "k.<a> = GF((5,2))\n",
    "E = EllipticCurve(k,[1,0]); E"
   ]
  },
  {
   "cell_type": "code",
   "execution_count": 27,
   "id": "b4768049-7cc9-4f27-ac09-28a642bf7100",
   "metadata": {},
   "outputs": [
    {
     "data": {
      "text/plain": [
       "32"
      ]
     },
     "execution_count": 27,
     "metadata": {},
     "output_type": "execute_result"
    }
   ],
   "source": [
    "E.order()"
   ]
  },
  {
   "cell_type": "code",
   "execution_count": 28,
   "id": "09f361f4-004a-4a09-8509-60856b552b83",
   "metadata": {},
   "outputs": [],
   "source": [
    "P = E([a, 2*a + 4])"
   ]
  },
  {
   "cell_type": "code",
   "execution_count": 29,
   "id": "8ecd5e4b-e440-45be-8635-d1d795bb9bc2",
   "metadata": {},
   "outputs": [
    {
     "data": {
      "text/plain": [
       "(a : 2*a + 4 : 1)"
      ]
     },
     "execution_count": 29,
     "metadata": {},
     "output_type": "execute_result"
    }
   ],
   "source": [
    "P"
   ]
  },
  {
   "cell_type": "code",
   "execution_count": 30,
   "id": "da54608c-0680-4ddc-b5ec-1c1faf9134d8",
   "metadata": {},
   "outputs": [
    {
     "data": {
      "text/plain": [
       "8"
      ]
     },
     "execution_count": 30,
     "metadata": {},
     "output_type": "execute_result"
    }
   ],
   "source": [
    "P.order()"
   ]
  },
  {
   "cell_type": "code",
   "execution_count": 31,
   "id": "fa5c6266-bb74-4217-9a22-beddc4c1b485",
   "metadata": {},
   "outputs": [],
   "source": [
    "p = P.point_of_jacobian_of_projective_curve()"
   ]
  },
  {
   "cell_type": "code",
   "execution_count": 32,
   "id": "695902ac-36ed-4ecb-a8fb-a993cedf1113",
   "metadata": {},
   "outputs": [
    {
     "data": {
      "text/plain": [
       "[Place (x + 4*a, y + 3*a + 1)]"
      ]
     },
     "execution_count": 32,
     "metadata": {},
     "output_type": "execute_result"
    }
   ],
   "source": [
    "p"
   ]
  },
  {
   "cell_type": "code",
   "execution_count": 33,
   "id": "f16839f4-5e75-4839-b737-03bad99d76c6",
   "metadata": {},
   "outputs": [
    {
     "data": {
      "text/plain": [
       "8"
      ]
     },
     "execution_count": 33,
     "metadata": {},
     "output_type": "execute_result"
    }
   ],
   "source": [
    "p.order()"
   ]
  },
  {
   "cell_type": "code",
   "execution_count": 34,
   "id": "4302c7b1-27e4-445d-9ac1-b9c005d6ba5a",
   "metadata": {},
   "outputs": [],
   "source": [
    "Q = 3*P"
   ]
  },
  {
   "cell_type": "code",
   "execution_count": 35,
   "id": "04aabec0-d3ad-40cb-8bca-7ab91118c18d",
   "metadata": {},
   "outputs": [],
   "source": [
    "q = Q.point_of_jacobian_of_projective_curve()"
   ]
  },
  {
   "cell_type": "code",
   "execution_count": 36,
   "id": "718746bf-e3a0-448c-beaa-a3ad631541b8",
   "metadata": {},
   "outputs": [
    {
     "data": {
      "text/plain": [
       "True"
      ]
     },
     "execution_count": 36,
     "metadata": {},
     "output_type": "execute_result"
    }
   ],
   "source": [
    "q == 3*p"
   ]
  },
  {
   "cell_type": "code",
   "execution_count": 37,
   "id": "dee5eab1-ede6-4efe-b583-1dc9489cd431",
   "metadata": {},
   "outputs": [],
   "source": [
    "G = p.parent()"
   ]
  },
  {
   "cell_type": "code",
   "execution_count": 38,
   "id": "b7e23963-135d-4667-90ff-09d23c1f5595",
   "metadata": {},
   "outputs": [
    {
     "data": {
      "text/plain": [
       "Group of rational points of Jacobian over Finite Field in a of size 5^2 (Hess model)"
      ]
     },
     "execution_count": 38,
     "metadata": {},
     "output_type": "execute_result"
    }
   ],
   "source": [
    "G"
   ]
  },
  {
   "cell_type": "code",
   "execution_count": 39,
   "id": "e6a81c49-55af-40d5-97f8-3ad9695db81d",
   "metadata": {},
   "outputs": [
    {
     "data": {
      "text/plain": [
       "32"
      ]
     },
     "execution_count": 39,
     "metadata": {},
     "output_type": "execute_result"
    }
   ],
   "source": [
    "G.order()"
   ]
  },
  {
   "cell_type": "code",
   "execution_count": 40,
   "id": "3bee8ef0-a0b0-41e2-a469-4976a7d717ba",
   "metadata": {},
   "outputs": [
    {
     "data": {
      "text/plain": [
       "True"
      ]
     },
     "execution_count": 40,
     "metadata": {},
     "output_type": "execute_result"
    }
   ],
   "source": [
    "32*p == 0"
   ]
  },
  {
   "cell_type": "code",
   "execution_count": 41,
   "id": "5280245a-32a1-4b9e-956f-4ecedb9a039f",
   "metadata": {},
   "outputs": [],
   "source": [
    "J = G.parent()"
   ]
  },
  {
   "cell_type": "code",
   "execution_count": 42,
   "id": "c82bd619-529e-4354-beca-54fe7ea539ed",
   "metadata": {},
   "outputs": [
    {
     "data": {
      "text/plain": [
       "Projective Plane Curve over Finite Field in a of size 5^2 defined by x^2*y + y^3 - x*z^2"
      ]
     },
     "execution_count": 42,
     "metadata": {},
     "output_type": "execute_result"
    }
   ],
   "source": [
    "J.curve()"
   ]
  },
  {
   "cell_type": "code",
   "execution_count": 43,
   "id": "fe6f072c-a8d3-40c6-ae95-4363de7340d2",
   "metadata": {},
   "outputs": [
    {
     "data": {
      "text/plain": [
       "True"
      ]
     },
     "execution_count": 43,
     "metadata": {},
     "output_type": "execute_result"
    }
   ],
   "source": [
    "J.curve() == E.affine_patch(2).projective_closure()"
   ]
  },
  {
   "cell_type": "markdown",
   "id": "ef3aff47-6802-44f4-8f97-578d71f9bff2",
   "metadata": {},
   "source": [
    "# Hyperelliptic curve"
   ]
  },
  {
   "cell_type": "code",
   "execution_count": 44,
   "id": "bceb6abf-5a2c-490e-9b8f-2af24dabcf0a",
   "metadata": {},
   "outputs": [],
   "source": [
    "R.<x> = PolynomialRing(GF(11))\n",
    "f = x^6 + x + 1\n",
    "H = HyperellipticCurve(f)"
   ]
  },
  {
   "cell_type": "code",
   "execution_count": 45,
   "id": "5fb9c3ff-0632-480f-b69b-9479da79ea33",
   "metadata": {},
   "outputs": [],
   "source": [
    "J = H.jacobian()"
   ]
  },
  {
   "cell_type": "code",
   "execution_count": 46,
   "id": "9b9907c0-249c-4573-afcd-58c9a94ff585",
   "metadata": {},
   "outputs": [
    {
     "data": {
      "text/plain": [
       "Jacobian of Hyperelliptic Curve over Finite Field of size 11 defined by y^2 = x^6 + x + 1"
      ]
     },
     "execution_count": 46,
     "metadata": {},
     "output_type": "execute_result"
    }
   ],
   "source": [
    "J"
   ]
  },
  {
   "cell_type": "code",
   "execution_count": 47,
   "id": "87b64c46-99e0-4083-9151-74edb889342e",
   "metadata": {},
   "outputs": [],
   "source": [
    "D = J(H.lift_x(1))"
   ]
  },
  {
   "cell_type": "code",
   "execution_count": 48,
   "id": "649f0c1a-4a4e-4003-a4e6-7544be107700",
   "metadata": {},
   "outputs": [
    {
     "data": {
      "text/plain": [
       "(x + 10, y + 6)"
      ]
     },
     "execution_count": 48,
     "metadata": {},
     "output_type": "execute_result"
    }
   ],
   "source": [
    "D  # divisor in Mumford representation"
   ]
  },
  {
   "cell_type": "code",
   "execution_count": 49,
   "id": "c06fa4d8-c90d-4bb3-8638-b8d0f5efc3bd",
   "metadata": {},
   "outputs": [],
   "source": [
    "jacobian_order = sum(H.frobenius_polynomial())"
   ]
  },
  {
   "cell_type": "code",
   "execution_count": 50,
   "id": "24aff944-d06d-4323-ac7c-c141d957412f",
   "metadata": {},
   "outputs": [
    {
     "data": {
      "text/plain": [
       "234"
      ]
     },
     "execution_count": 50,
     "metadata": {},
     "output_type": "execute_result"
    }
   ],
   "source": [
    "jacobian_order"
   ]
  },
  {
   "cell_type": "code",
   "execution_count": 51,
   "id": "f6192c78-bcff-410a-8b58-4c3b807f85f4",
   "metadata": {},
   "outputs": [],
   "source": [
    "p = D.point_of_jacobian_of_projective_curve()"
   ]
  },
  {
   "cell_type": "code",
   "execution_count": 52,
   "id": "ff0fb542-74ec-46eb-b9e7-d604cb86e29e",
   "metadata": {},
   "outputs": [
    {
     "data": {
      "text/plain": [
       "[Place (1/x0, 1/x0^3*x1 + 1)\n",
       " + Place (x0 + 10, x1 + 6)]"
      ]
     },
     "execution_count": 52,
     "metadata": {},
     "output_type": "execute_result"
    }
   ],
   "source": [
    "p  # Jacobian point represented by an effective divisor"
   ]
  },
  {
   "cell_type": "code",
   "execution_count": 53,
   "id": "c5b70d55-62ae-4cd5-9283-e010f08f8e74",
   "metadata": {},
   "outputs": [
    {
     "data": {
      "text/plain": [
       "39"
      ]
     },
     "execution_count": 53,
     "metadata": {},
     "output_type": "execute_result"
    }
   ],
   "source": [
    "p.order()"
   ]
  },
  {
   "cell_type": "code",
   "execution_count": 54,
   "id": "b5f7c23f-9c96-4158-8d5d-c3f849dd5b17",
   "metadata": {},
   "outputs": [
    {
     "data": {
      "text/plain": [
       "True"
      ]
     },
     "execution_count": 54,
     "metadata": {},
     "output_type": "execute_result"
    }
   ],
   "source": [
    "(234*p).is_zero()"
   ]
  },
  {
   "cell_type": "code",
   "execution_count": 55,
   "id": "acb1d4c7-f9bb-4382-8d0b-8043c37d659a",
   "metadata": {},
   "outputs": [],
   "source": [
    "G = p.parent()"
   ]
  },
  {
   "cell_type": "code",
   "execution_count": 56,
   "id": "f2d42460-6542-4eb0-a4bb-7277f4c0d5b4",
   "metadata": {},
   "outputs": [
    {
     "data": {
      "text/plain": [
       "Group of rational points of Jacobian over Finite Field of size 11 (Hess model)"
      ]
     },
     "execution_count": 56,
     "metadata": {},
     "output_type": "execute_result"
    }
   ],
   "source": [
    "G"
   ]
  },
  {
   "cell_type": "code",
   "execution_count": 57,
   "id": "5d46d431-a569-410a-a563-16b818de9691",
   "metadata": {},
   "outputs": [],
   "source": [
    "J = G.parent()"
   ]
  },
  {
   "cell_type": "code",
   "execution_count": 58,
   "id": "ee67cb17-1da3-4a7b-8d9e-a437256668bd",
   "metadata": {},
   "outputs": [
    {
     "data": {
      "text/plain": [
       "Jacobian of Projective Plane Curve over Finite Field of size 11 defined by x0^6 + x0^5*x1 + x1^6 - x0^4*x2^2 (Hess model)"
      ]
     },
     "execution_count": 58,
     "metadata": {},
     "output_type": "execute_result"
    }
   ],
   "source": [
    "J"
   ]
  },
  {
   "cell_type": "code",
   "execution_count": 59,
   "id": "5625fea8-cf05-4bae-b827-38d596f7ae17",
   "metadata": {},
   "outputs": [],
   "source": [
    "C = J.curve()"
   ]
  },
  {
   "cell_type": "code",
   "execution_count": 60,
   "id": "1cb3702c-988c-4c5b-b2de-c8a552926e41",
   "metadata": {},
   "outputs": [
    {
     "data": {
      "text/plain": [
       "Projective Plane Curve over Finite Field of size 11 defined by x0^6 + x0^5*x1 + x1^6 - x0^4*x2^2"
      ]
     },
     "execution_count": 60,
     "metadata": {},
     "output_type": "execute_result"
    }
   ],
   "source": [
    "C"
   ]
  },
  {
   "cell_type": "code",
   "execution_count": 61,
   "id": "a4472b4c-adec-44b0-a82e-f79253846273",
   "metadata": {},
   "outputs": [
    {
     "data": {
      "text/plain": [
       "True"
      ]
     },
     "execution_count": 61,
     "metadata": {},
     "output_type": "execute_result"
    }
   ],
   "source": [
    "C == H.affine_patch(2).projective_closure()"
   ]
  },
  {
   "cell_type": "markdown",
   "id": "8cc4a701-8f97-4400-85a2-fe9c007a13da",
   "metadata": {},
   "source": [
    "# Frobenius"
   ]
  },
  {
   "cell_type": "code",
   "execution_count": 62,
   "id": "c015113d-984b-4d7e-8acd-8d0b60f73298",
   "metadata": {},
   "outputs": [],
   "source": [
    "f = C.L_polynomial()"
   ]
  },
  {
   "cell_type": "code",
   "execution_count": 63,
   "id": "5e2e5508-1d24-4b37-8b0c-ab36c9152a39",
   "metadata": {},
   "outputs": [
    {
     "data": {
      "text/plain": [
       "-121*t^5 + 44*t^4 + 49*t^3 + 21*t^2 + 6*t + 1"
      ]
     },
     "execution_count": 63,
     "metadata": {},
     "output_type": "execute_result"
    }
   ],
   "source": [
    "f"
   ]
  },
  {
   "cell_type": "code",
   "execution_count": 64,
   "id": "ea3ff499-da8a-43af-8877-3bf615dbcad2",
   "metadata": {},
   "outputs": [],
   "source": [
    "k2 = C.function_field().constant_base_field().extension(2)"
   ]
  },
  {
   "cell_type": "code",
   "execution_count": 65,
   "id": "a4ddc839-aa60-44e8-90c8-db9e1cbb60f7",
   "metadata": {},
   "outputs": [
    {
     "data": {
      "text/plain": [
       "Finite Field in z2 of size 11^2"
      ]
     },
     "execution_count": 65,
     "metadata": {},
     "output_type": "execute_result"
    }
   ],
   "source": [
    "k2"
   ]
  },
  {
   "cell_type": "code",
   "execution_count": 66,
   "id": "f3f0283b-4e57-4268-a467-2bbd083daf0e",
   "metadata": {},
   "outputs": [
    {
     "data": {
      "text/plain": [
       "234"
      ]
     },
     "execution_count": 66,
     "metadata": {},
     "output_type": "execute_result"
    }
   ],
   "source": [
    "J.group().order()"
   ]
  },
  {
   "cell_type": "code",
   "execution_count": 67,
   "id": "6cd1b064-a0f5-4556-bfb8-8081d73062ba",
   "metadata": {},
   "outputs": [],
   "source": [
    "G2 = J.group(k2)"
   ]
  },
  {
   "cell_type": "code",
   "execution_count": 68,
   "id": "87755f2e-e5cb-4ea0-a002-16a69eabf477",
   "metadata": {},
   "outputs": [],
   "source": [
    "P = G2.function_field().places(2)[-1]  # takes time"
   ]
  },
  {
   "cell_type": "code",
   "execution_count": 69,
   "id": "9977a58f-f777-4081-b85c-aebb1fc09b8c",
   "metadata": {},
   "outputs": [],
   "source": [
    "p = G2(P)"
   ]
  },
  {
   "cell_type": "code",
   "execution_count": 70,
   "id": "3d5922e0-8b11-4161-9063-8fe77eff87a1",
   "metadata": {},
   "outputs": [
    {
     "data": {
      "text/plain": [
       "[Place (x0^2 + x0 + 2*z2 + 8, x1 + (3*z2 + 8)*x0 + 2*z2)]"
      ]
     },
     "execution_count": 70,
     "metadata": {},
     "output_type": "execute_result"
    }
   ],
   "source": [
    "p"
   ]
  },
  {
   "cell_type": "code",
   "execution_count": 71,
   "id": "51c5d070-8d7e-412c-b65e-7c45a600b3df",
   "metadata": {},
   "outputs": [
    {
     "data": {
      "text/plain": [
       "False"
      ]
     },
     "execution_count": 71,
     "metadata": {},
     "output_type": "execute_result"
    }
   ],
   "source": [
    "p.frobenius() == p"
   ]
  },
  {
   "cell_type": "code",
   "execution_count": 72,
   "id": "44baa5eb-76dd-4dd3-90f5-f1f126138cc7",
   "metadata": {},
   "outputs": [],
   "source": [
    "p1 = p.frobenius()"
   ]
  },
  {
   "cell_type": "code",
   "execution_count": 73,
   "id": "09f3f43b-10a2-4cbf-846c-8451edf15802",
   "metadata": {},
   "outputs": [
    {
     "data": {
      "text/plain": [
       "[Place (x0^2 + x0 + 9*z2 + 5, x1 + (8*z2 + 9)*x0 + 9*z2 + 8)]"
      ]
     },
     "execution_count": 73,
     "metadata": {},
     "output_type": "execute_result"
    }
   ],
   "source": [
    "p1"
   ]
  },
  {
   "cell_type": "code",
   "execution_count": 74,
   "id": "9da39d37-b783-481c-9157-6c4edb0333e5",
   "metadata": {},
   "outputs": [],
   "source": [
    "p2 = p1.frobenius()"
   ]
  },
  {
   "cell_type": "code",
   "execution_count": 75,
   "id": "645478d2-db6c-46c1-b8ee-691f728c50ae",
   "metadata": {},
   "outputs": [],
   "source": [
    "p3 = p2.frobenius()"
   ]
  },
  {
   "cell_type": "code",
   "execution_count": 76,
   "id": "a91904d4-f9b0-4087-afc8-e8ef5d729875",
   "metadata": {},
   "outputs": [],
   "source": [
    "p4 = p3.frobenius()"
   ]
  },
  {
   "cell_type": "code",
   "execution_count": 77,
   "id": "d3f115b4-091e-4a56-8bf6-28ac84b63947",
   "metadata": {},
   "outputs": [],
   "source": [
    "p5 = p4.frobenius()"
   ]
  },
  {
   "cell_type": "code",
   "execution_count": 78,
   "id": "b6ffe3af-c8ac-43e4-90c9-2d13e350b49b",
   "metadata": {},
   "outputs": [
    {
     "data": {
      "text/plain": [
       "True"
      ]
     },
     "execution_count": 78,
     "metadata": {},
     "output_type": "execute_result"
    }
   ],
   "source": [
    "-121*p5 + 44*p4 + 49*p3 + 21*p2 + 6*p1 + p == 0  # Frobenius"
   ]
  },
  {
   "cell_type": "code",
   "execution_count": null,
   "id": "91a0581d-dcca-4ce3-bbe4-9fe7c7d587f2",
   "metadata": {},
   "outputs": [],
   "source": []
  }
 ],
 "metadata": {
  "kernelspec": {
   "display_name": "SageMath 10.3.rc2",
   "language": "sage",
   "name": "sagemath"
  },
  "language_info": {
   "codemirror_mode": {
    "name": "ipython",
    "version": 3
   },
   "file_extension": ".py",
   "mimetype": "text/x-python",
   "name": "python",
   "nbconvert_exporter": "python",
   "pygments_lexer": "ipython3",
   "version": "3.11.6"
  }
 },
 "nbformat": 4,
 "nbformat_minor": 5
}
